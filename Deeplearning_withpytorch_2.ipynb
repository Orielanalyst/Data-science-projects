{
  "nbformat": 4,
  "nbformat_minor": 0,
  "metadata": {
    "colab": {
      "provenance": [],
      "authorship_tag": "ABX9TyNWyEEB4BC+2ouG7EETr6p1",
      "include_colab_link": true
    },
    "kernelspec": {
      "name": "python3",
      "display_name": "Python 3"
    },
    "language_info": {
      "name": "python"
    }
  },
  "cells": [
    {
      "cell_type": "markdown",
      "metadata": {
        "id": "view-in-github",
        "colab_type": "text"
      },
      "source": [
        "<a href=\"https://colab.research.google.com/github/Orielanalyst/Data-science-projects/blob/main/Deeplearning_withpytorch_2.ipynb\" target=\"_parent\"><img src=\"https://colab.research.google.com/assets/colab-badge.svg\" alt=\"Open In Colab\"/></a>"
      ]
    },
    {
      "cell_type": "markdown",
      "source": [
        "###**Pretrained Network for  Image Generation (ResNet101)**"
      ],
      "metadata": {
        "id": "5YXa0gOsZF0Q"
      }
    },
    {
      "cell_type": "code",
      "execution_count": 3,
      "metadata": {
        "id": "tcOjh8HCs6Sw"
      },
      "outputs": [],
      "source": [
        "# prompt: import pytorch\n",
        "\n",
        "import torch\n",
        "from torchvision import models"
      ]
    },
    {
      "cell_type": "code",
      "source": [
        "dir(models)"
      ],
      "metadata": {
        "id": "vhuF69ah356A"
      },
      "execution_count": null,
      "outputs": []
    },
    {
      "cell_type": "code",
      "source": [
        "alexnet =models.AlexNet()\n"
      ],
      "metadata": {
        "id": "SEILCwjp8dWy"
      },
      "execution_count": 5,
      "outputs": []
    },
    {
      "cell_type": "code",
      "source": [
        "resnet =models.resnet101(pretrained=True)"
      ],
      "metadata": {
        "id": "tNTjTr61_PAK"
      },
      "execution_count": null,
      "outputs": []
    },
    {
      "cell_type": "code",
      "source": [
        "from torchvision import transforms\n",
        "preprocess =transforms.Compose([transforms.Resize(256),\n",
        "                                transforms.CenterCrop(224),\n",
        "                                transforms.ToTensor(),\n",
        "                                transforms.Normalize(\n",
        "                                    mean=[0.485, 0.456, 0.406],\n",
        "                                    std=[0.229, 0.224, 0.225]\n",
        "                                )\n",
        "                                ])"
      ],
      "metadata": {
        "id": "cwf1c2OqBXKl"
      },
      "execution_count": 11,
      "outputs": []
    },
    {
      "cell_type": "code",
      "source": [
        "from PIL import Image\n",
        "img =Image.open(\"/media/wallpaperflare.com_wallpaper.jpg\")\n"
      ],
      "metadata": {
        "id": "cLqnw1WnCr0D"
      },
      "execution_count": 12,
      "outputs": []
    },
    {
      "cell_type": "code",
      "source": [
        "output =resnet(batch_proc)"
      ],
      "metadata": {
        "id": "IoTVQYH1FtHW"
      },
      "execution_count": 19,
      "outputs": []
    },
    {
      "cell_type": "code",
      "metadata": {
        "id": "98a7a3fb"
      },
      "source": [
        "%pip install requests"
      ],
      "execution_count": null,
      "outputs": []
    },
    {
      "cell_type": "code",
      "metadata": {
        "id": "ca60027e"
      },
      "source": [
        "import requests\n",
        "from PIL import Image\n",
        "from io import BytesIO\n",
        "\n",
        "url = \"https://github.com/deep-learning-with-pytorch/dlwpt-code/blob/master/data/p1ch2/bobby.jpg?raw=true\" # Using the raw image URL\n",
        "response = requests.get(url)\n",
        "img_2 = Image.open(BytesIO(response.content))\n"
      ],
      "execution_count": 27,
      "outputs": []
    },
    {
      "cell_type": "code",
      "source": [
        "image_2_proc =preprocess(img_2) #preprocessing using the transforms class in torch"
      ],
      "metadata": {
        "id": "QU2xu6DWM8Pt"
      },
      "execution_count": 28,
      "outputs": []
    },
    {
      "cell_type": "code",
      "source": [
        "batch_2 =torch.unsqueeze(image_2_proc,0)"
      ],
      "metadata": {
        "id": "ikDMZr7uNCrA"
      },
      "execution_count": 29,
      "outputs": []
    },
    {
      "cell_type": "code",
      "source": [
        "# @title Default title text\n",
        "resnet.eval()"
      ],
      "metadata": {
        "id": "NZpD66YZNURE"
      },
      "execution_count": null,
      "outputs": []
    },
    {
      "cell_type": "code",
      "source": [
        "output2 =resnet(batch_2)"
      ],
      "metadata": {
        "id": "sIWnHE-QU_Zm"
      },
      "execution_count": 38,
      "outputs": []
    },
    {
      "cell_type": "code",
      "source": [
        "# Note to self\n",
        "#when pulling a text file from Github always add the raw. infront of the URL\n",
        "url_text=\"https://raw.githubusercontent.com/deep-learning-with-pytorch/dlwpt-code/master/data/p1ch2/imagenet_classes.txt\"\n",
        "response2 = requests.get(url_text)\n",
        "labels = [line.strip() for line in response2.text.splitlines()]"
      ],
      "metadata": {
        "id": "jOnF8HfuNXC5"
      },
      "execution_count": 49,
      "outputs": []
    },
    {
      "cell_type": "code",
      "source": [
        "_,index =torch.max(output, 1)"
      ],
      "metadata": {
        "id": "ciExuTLfS-UP"
      },
      "execution_count": 50,
      "outputs": []
    },
    {
      "cell_type": "code",
      "source": [
        "percentage =torch.nn.functional.softmax(output2, dim=1)[0]*100\n",
        "labels[index[0]], percentage[index[0]].item()"
      ],
      "metadata": {
        "colab": {
          "base_uri": "https://localhost:8080/"
        },
        "id": "NA6Clkw0VKSO",
        "outputId": "fbba9591-5c67-483d-89ef-eb0fc9fe6b9b"
      },
      "execution_count": 51,
      "outputs": [
        {
          "output_type": "execute_result",
          "data": {
            "text/plain": [
              "('golden retriever', 96.57186889648438)"
            ]
          },
          "metadata": {},
          "execution_count": 51
        }
      ]
    },
    {
      "cell_type": "code",
      "source": [
        "_,indices =torch.sort(output2, descending=True)\n",
        "[(labels[idx], percentage[idx].item()) for idx in indices[0][:5]]"
      ],
      "metadata": {
        "colab": {
          "base_uri": "https://localhost:8080/"
        },
        "id": "yllc-f6rVwUR",
        "outputId": "7980579e-fb70-4794-b960-0f582233ce77"
      },
      "execution_count": 52,
      "outputs": [
        {
          "output_type": "execute_result",
          "data": {
            "text/plain": [
              "[('golden retriever', 96.57186889648438),\n",
              " ('Labrador retriever', 2.6082561016082764),\n",
              " ('cocker spaniel, English cocker spaniel, cocker', 0.26996272802352905),\n",
              " ('redbone', 0.17958852648735046),\n",
              " ('tennis ball', 0.10991960018873215)]"
            ]
          },
          "metadata": {},
          "execution_count": 52
        }
      ]
    },
    {
      "cell_type": "code",
      "source": [],
      "metadata": {
        "id": "HoI6WvUeYiH8"
      },
      "execution_count": null,
      "outputs": []
    }
  ]
}